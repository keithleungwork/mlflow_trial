{
 "cells": [
  {
   "cell_type": "markdown",
   "metadata": {},
   "source": [
    "# MLFlow\n",
    "\n",
    "The guide is referred to https://mlflow.org/docs/latest/quickstart.html"
   ]
  },
  {
   "cell_type": "markdown",
   "metadata": {},
   "source": [
    "## Tracking experiments\n",
    "\n",
    "We called `mlflow.autolog()` below, so if you are using one of the supported libraries, this will automatically log the parameters, metrics, and artifacts of your run.\n",
    "\n",
    "Supported libraries are shown [here](https://mlflow.org/docs/latest/tracking.html#automatic-logging).\n",
    "\n",
    "By default, the loggings are stored in `./mlruns`, which we will visualize in the next session."
   ]
  },
  {
   "cell_type": "code",
   "execution_count": 3,
   "metadata": {},
   "outputs": [
    {
     "name": "stderr",
     "output_type": "stream",
     "text": [
      "2023/09/12 17:25:32 INFO mlflow.tracking.fluent: Autologging successfully enabled for sklearn.\n",
      "2023/09/12 17:25:32 INFO mlflow.utils.autologging_utils: Created MLflow autologging run with ID '2beaeba17b3b4e69934594b506d10ae7', which will track hyperparameters, performance metrics, model artifacts, and lineage information for the current sklearn workflow\n"
     ]
    }
   ],
   "source": [
    "import mlflow\n",
    "\n",
    "from sklearn.model_selection import train_test_split\n",
    "from sklearn.datasets import load_diabetes\n",
    "from sklearn.ensemble import RandomForestRegressor\n",
    "\n",
    "# If the training libraries are supported, everything will be logged automatically.\n",
    "mlflow.autolog()\n",
    "\n",
    "db = load_diabetes()\n",
    "X_train, X_test, y_train, y_test = train_test_split(db.data, db.target)\n",
    "\n",
    "# Create and train models.\n",
    "rf = RandomForestRegressor(n_estimators=100, max_depth=2, max_features=3)\n",
    "rf.fit(X_train, y_train)\n",
    "\n",
    "# Use the model to make predictions on the test dataset.\n",
    "predictions = rf.predict(X_test)\n"
   ]
  },
  {
   "cell_type": "markdown",
   "metadata": {},
   "source": [
    "Otherwise, if the libraries used are not supported, we can still use the logger to trace artifacts like below"
   ]
  },
  {
   "cell_type": "code",
   "execution_count": 2,
   "metadata": {},
   "outputs": [],
   "source": [
    "import os\n",
    "from random import random, randint\n",
    "from mlflow import log_metric, log_param, log_params, log_artifacts\n",
    "\n",
    "\n",
    "# Log a parameter (key-value pair)\n",
    "log_param(\"config_value\", randint(0, 100))\n",
    "\n",
    "# Log a dictionary of parameters\n",
    "log_params({\"param1\": randint(0, 100), \"param2\": randint(0, 100)})\n",
    "\n",
    "# Log a metric; metrics can be updated throughout the run\n",
    "log_metric(\"accuracy\", random() / 2.0)\n",
    "log_metric(\"accuracy\", random() + 0.1)\n",
    "log_metric(\"accuracy\", random() + 0.2)\n",
    "\n",
    "# Log an artifact (output file)\n",
    "if not os.path.exists(\"outputs\"):\n",
    "    os.makedirs(\"outputs\")\n",
    "with open(\"outputs/test.txt\", \"w\") as f:\n",
    "    f.write(\"hello world!\")\n",
    "log_artifacts(\"outputs\")\n"
   ]
  },
  {
   "cell_type": "markdown",
   "metadata": {},
   "source": [
    "----\n",
    "\n",
    "## Visualize via UI\n",
    "\n",
    "We have logged some experiments now and we can view on the UI locally.(Or via server if deployed on cloud).\n",
    "\n",
    "Run below command in a terminal as it will spin up a local server.\n",
    "```bash\n",
    "mlflow ui\n",
    "```"
   ]
  },
  {
   "cell_type": "markdown",
   "metadata": {},
   "source": [
    "Then you can open the UI at [http://localhost:5000/](http://localhost:5000/)"
   ]
  }
 ],
 "metadata": {
  "kernelspec": {
   "display_name": ".venv",
   "language": "python",
   "name": "python3"
  },
  "language_info": {
   "codemirror_mode": {
    "name": "ipython",
    "version": 3
   },
   "file_extension": ".py",
   "mimetype": "text/x-python",
   "name": "python",
   "nbconvert_exporter": "python",
   "pygments_lexer": "ipython3",
   "version": "3.11.3"
  },
  "orig_nbformat": 4
 },
 "nbformat": 4,
 "nbformat_minor": 2
}
